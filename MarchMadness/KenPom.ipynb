{
 "metadata": {
  "language_info": {
   "codemirror_mode": {
    "name": "ipython",
    "version": 3
   },
   "file_extension": ".py",
   "mimetype": "text/x-python",
   "name": "python",
   "nbconvert_exporter": "python",
   "pygments_lexer": "ipython3",
   "version": "3.8.6-final"
  },
  "orig_nbformat": 2,
  "kernelspec": {
   "name": "base",
   "display_name": "base",
   "language": "python"
  }
 },
 "nbformat": 4,
 "nbformat_minor": 2,
 "cells": [
  {
   "cell_type": "code",
   "execution_count": 11,
   "metadata": {},
   "outputs": [],
   "source": [
    "import pandas as pd\n",
    "import glob\n",
    "import os"
   ]
  },
  {
   "cell_type": "code",
   "execution_count": 12,
   "metadata": {},
   "outputs": [],
   "source": [
    "KENPOM_DATA_DIR = \"/Users/jameswhedbee/jupyter_notebooks/DATA/MarchMadness/KenPom\"\n",
    "KAGGLE_DATA_DIR = \"/Users/jameswhedbee/jupyter_notebooks/DATA/MarchMadness/MDataFiles_Stage2\"\n",
    "OUTPUT_DATA_DIR = \"/Users/jameswhedbee/jupyter_notebooks/DATA/MarchMadness/output\""
   ]
  },
  {
   "cell_type": "code",
   "execution_count": 13,
   "metadata": {},
   "outputs": [],
   "source": [
    "KENPOM_COLS = [\"Season\", \"TeamName\", \"AdjOE\", \"AdjDE\"]"
   ]
  },
  {
   "cell_type": "code",
   "execution_count": 14,
   "metadata": {},
   "outputs": [
    {
     "output_type": "execute_result",
     "data": {
      "text/plain": [
       "      Season        TeamName     AdjOE     AdjDE   LowerTeamName\n",
       "0       2013       Air Force  112.8840  104.4400       air force\n",
       "1       2013           Akron  107.8010   94.0583           akron\n",
       "2       2013         Alabama  104.1100   93.3046         alabama\n",
       "3       2013     Alabama A&M   90.5796  111.4980     alabama a&m\n",
       "4       2013     Alabama St.   92.2111  112.0520     alabama st.\n",
       "...      ...             ...       ...       ...             ...\n",
       "6182    2004      Wright St.  103.6850  104.8470      wright st.\n",
       "6183    2004         Wyoming  104.4840   99.8136         wyoming\n",
       "6184    2004          Xavier  110.7610   92.9239          xavier\n",
       "6185    2004            Yale   99.3150  103.3250            yale\n",
       "6186    2004  Youngstown St.   97.1036  105.2700  youngstown st.\n",
       "\n",
       "[6187 rows x 5 columns]"
      ],
      "text/html": "<div>\n<style scoped>\n    .dataframe tbody tr th:only-of-type {\n        vertical-align: middle;\n    }\n\n    .dataframe tbody tr th {\n        vertical-align: top;\n    }\n\n    .dataframe thead th {\n        text-align: right;\n    }\n</style>\n<table border=\"1\" class=\"dataframe\">\n  <thead>\n    <tr style=\"text-align: right;\">\n      <th></th>\n      <th>Season</th>\n      <th>TeamName</th>\n      <th>AdjOE</th>\n      <th>AdjDE</th>\n      <th>LowerTeamName</th>\n    </tr>\n  </thead>\n  <tbody>\n    <tr>\n      <th>0</th>\n      <td>2013</td>\n      <td>Air Force</td>\n      <td>112.8840</td>\n      <td>104.4400</td>\n      <td>air force</td>\n    </tr>\n    <tr>\n      <th>1</th>\n      <td>2013</td>\n      <td>Akron</td>\n      <td>107.8010</td>\n      <td>94.0583</td>\n      <td>akron</td>\n    </tr>\n    <tr>\n      <th>2</th>\n      <td>2013</td>\n      <td>Alabama</td>\n      <td>104.1100</td>\n      <td>93.3046</td>\n      <td>alabama</td>\n    </tr>\n    <tr>\n      <th>3</th>\n      <td>2013</td>\n      <td>Alabama A&amp;M</td>\n      <td>90.5796</td>\n      <td>111.4980</td>\n      <td>alabama a&amp;m</td>\n    </tr>\n    <tr>\n      <th>4</th>\n      <td>2013</td>\n      <td>Alabama St.</td>\n      <td>92.2111</td>\n      <td>112.0520</td>\n      <td>alabama st.</td>\n    </tr>\n    <tr>\n      <th>...</th>\n      <td>...</td>\n      <td>...</td>\n      <td>...</td>\n      <td>...</td>\n      <td>...</td>\n    </tr>\n    <tr>\n      <th>6182</th>\n      <td>2004</td>\n      <td>Wright St.</td>\n      <td>103.6850</td>\n      <td>104.8470</td>\n      <td>wright st.</td>\n    </tr>\n    <tr>\n      <th>6183</th>\n      <td>2004</td>\n      <td>Wyoming</td>\n      <td>104.4840</td>\n      <td>99.8136</td>\n      <td>wyoming</td>\n    </tr>\n    <tr>\n      <th>6184</th>\n      <td>2004</td>\n      <td>Xavier</td>\n      <td>110.7610</td>\n      <td>92.9239</td>\n      <td>xavier</td>\n    </tr>\n    <tr>\n      <th>6185</th>\n      <td>2004</td>\n      <td>Yale</td>\n      <td>99.3150</td>\n      <td>103.3250</td>\n      <td>yale</td>\n    </tr>\n    <tr>\n      <th>6186</th>\n      <td>2004</td>\n      <td>Youngstown St.</td>\n      <td>97.1036</td>\n      <td>105.2700</td>\n      <td>youngstown st.</td>\n    </tr>\n  </tbody>\n</table>\n<p>6187 rows × 5 columns</p>\n</div>"
     },
     "metadata": {},
     "execution_count": 14
    }
   ],
   "source": [
    "all_files = glob.glob(os.path.join(KENPOM_DATA_DIR, \"*.csv\"))\n",
    "\n",
    "data = []\n",
    "\n",
    "for filename in all_files:\n",
    "    df = pd.read_csv(filename, index_col=None, header=0)\n",
    "    data.append(df)\n",
    "\n",
    "kenpom_df = pd.concat(data, axis=0, ignore_index=True)[KENPOM_COLS]\n",
    "kenpom_df[\"LowerTeamName\"] = kenpom_df[\"TeamName\"].str.lower()\n",
    "kenpom_df"
   ]
  },
  {
   "cell_type": "code",
   "execution_count": 15,
   "metadata": {},
   "outputs": [
    {
     "output_type": "execute_result",
     "data": {
      "text/plain": [
       "                 TeamNameSpelling  TeamID\n",
       "1040                 ut-arlington    1426\n",
       "1041                    ut-martin    1404\n",
       "1042                         utah    1428\n",
       "1043                      utah st    1429\n",
       "1044                     utah st.    1429\n",
       "1045                   utah state    1429\n",
       "1046                  utah valley    1430\n",
       "1047              utah valley st.    1430\n",
       "1048                      utah-st    1429\n",
       "1049                   utah-state    1429\n",
       "1050                  utah-valley    1430\n",
       "1051            utah-valley-state    1430\n",
       "1052                         utep    1431\n",
       "1053                        utica    1432\n",
       "1054                        utrgv    1410\n",
       "1055                         utsa    1427\n",
       "1056              va commonwealth    1433\n",
       "1057                   valparaiso    1434\n",
       "1058                   vanderbilt    1435\n",
       "1059                          vcu    1433\n",
       "1060         vcu(va. commonwealth    1433\n",
       "1061                      vermont    1436\n",
       "1062                    villanova    1437\n",
       "1063                     virginia    1438\n",
       "1064        virginia commonwealth    1433\n",
       "1065            virginia military    1440\n",
       "1066  virginia military institute    1440\n",
       "1067                virginia tech    1439\n",
       "1068        virginia-commonwealth    1433\n",
       "1069  virginia-military-institute    1440\n",
       "1070                virginia-tech    1439\n",
       "1071                          vmi    1440\n",
       "1072                   w carolina    1441\n",
       "1073                   w illinois    1442\n",
       "1074                   w kentucky    1443\n",
       "1075                   w michigan    1444\n",
       "1076                   w salem st    1445\n",
       "1077                  w texas a&m    1446\n",
       "1078                       wagner    1447\n",
       "1079                  wake forest    1448\n",
       "1080                  wake-forest    1448\n",
       "1081                   washington    1449\n",
       "1082                washington st    1450\n",
       "1083               washington st.    1450\n",
       "1084             washington state    1450\n",
       "1085                washington-st    1450\n",
       "1086             washington-state    1450\n",
       "1087                     weber st    1451\n",
       "1088                    weber st.    1451\n",
       "1089                  weber state    1451"
      ],
      "text/html": "<div>\n<style scoped>\n    .dataframe tbody tr th:only-of-type {\n        vertical-align: middle;\n    }\n\n    .dataframe tbody tr th {\n        vertical-align: top;\n    }\n\n    .dataframe thead th {\n        text-align: right;\n    }\n</style>\n<table border=\"1\" class=\"dataframe\">\n  <thead>\n    <tr style=\"text-align: right;\">\n      <th></th>\n      <th>TeamNameSpelling</th>\n      <th>TeamID</th>\n    </tr>\n  </thead>\n  <tbody>\n    <tr>\n      <th>1040</th>\n      <td>ut-arlington</td>\n      <td>1426</td>\n    </tr>\n    <tr>\n      <th>1041</th>\n      <td>ut-martin</td>\n      <td>1404</td>\n    </tr>\n    <tr>\n      <th>1042</th>\n      <td>utah</td>\n      <td>1428</td>\n    </tr>\n    <tr>\n      <th>1043</th>\n      <td>utah st</td>\n      <td>1429</td>\n    </tr>\n    <tr>\n      <th>1044</th>\n      <td>utah st.</td>\n      <td>1429</td>\n    </tr>\n    <tr>\n      <th>1045</th>\n      <td>utah state</td>\n      <td>1429</td>\n    </tr>\n    <tr>\n      <th>1046</th>\n      <td>utah valley</td>\n      <td>1430</td>\n    </tr>\n    <tr>\n      <th>1047</th>\n      <td>utah valley st.</td>\n      <td>1430</td>\n    </tr>\n    <tr>\n      <th>1048</th>\n      <td>utah-st</td>\n      <td>1429</td>\n    </tr>\n    <tr>\n      <th>1049</th>\n      <td>utah-state</td>\n      <td>1429</td>\n    </tr>\n    <tr>\n      <th>1050</th>\n      <td>utah-valley</td>\n      <td>1430</td>\n    </tr>\n    <tr>\n      <th>1051</th>\n      <td>utah-valley-state</td>\n      <td>1430</td>\n    </tr>\n    <tr>\n      <th>1052</th>\n      <td>utep</td>\n      <td>1431</td>\n    </tr>\n    <tr>\n      <th>1053</th>\n      <td>utica</td>\n      <td>1432</td>\n    </tr>\n    <tr>\n      <th>1054</th>\n      <td>utrgv</td>\n      <td>1410</td>\n    </tr>\n    <tr>\n      <th>1055</th>\n      <td>utsa</td>\n      <td>1427</td>\n    </tr>\n    <tr>\n      <th>1056</th>\n      <td>va commonwealth</td>\n      <td>1433</td>\n    </tr>\n    <tr>\n      <th>1057</th>\n      <td>valparaiso</td>\n      <td>1434</td>\n    </tr>\n    <tr>\n      <th>1058</th>\n      <td>vanderbilt</td>\n      <td>1435</td>\n    </tr>\n    <tr>\n      <th>1059</th>\n      <td>vcu</td>\n      <td>1433</td>\n    </tr>\n    <tr>\n      <th>1060</th>\n      <td>vcu(va. commonwealth</td>\n      <td>1433</td>\n    </tr>\n    <tr>\n      <th>1061</th>\n      <td>vermont</td>\n      <td>1436</td>\n    </tr>\n    <tr>\n      <th>1062</th>\n      <td>villanova</td>\n      <td>1437</td>\n    </tr>\n    <tr>\n      <th>1063</th>\n      <td>virginia</td>\n      <td>1438</td>\n    </tr>\n    <tr>\n      <th>1064</th>\n      <td>virginia commonwealth</td>\n      <td>1433</td>\n    </tr>\n    <tr>\n      <th>1065</th>\n      <td>virginia military</td>\n      <td>1440</td>\n    </tr>\n    <tr>\n      <th>1066</th>\n      <td>virginia military institute</td>\n      <td>1440</td>\n    </tr>\n    <tr>\n      <th>1067</th>\n      <td>virginia tech</td>\n      <td>1439</td>\n    </tr>\n    <tr>\n      <th>1068</th>\n      <td>virginia-commonwealth</td>\n      <td>1433</td>\n    </tr>\n    <tr>\n      <th>1069</th>\n      <td>virginia-military-institute</td>\n      <td>1440</td>\n    </tr>\n    <tr>\n      <th>1070</th>\n      <td>virginia-tech</td>\n      <td>1439</td>\n    </tr>\n    <tr>\n      <th>1071</th>\n      <td>vmi</td>\n      <td>1440</td>\n    </tr>\n    <tr>\n      <th>1072</th>\n      <td>w carolina</td>\n      <td>1441</td>\n    </tr>\n    <tr>\n      <th>1073</th>\n      <td>w illinois</td>\n      <td>1442</td>\n    </tr>\n    <tr>\n      <th>1074</th>\n      <td>w kentucky</td>\n      <td>1443</td>\n    </tr>\n    <tr>\n      <th>1075</th>\n      <td>w michigan</td>\n      <td>1444</td>\n    </tr>\n    <tr>\n      <th>1076</th>\n      <td>w salem st</td>\n      <td>1445</td>\n    </tr>\n    <tr>\n      <th>1077</th>\n      <td>w texas a&amp;m</td>\n      <td>1446</td>\n    </tr>\n    <tr>\n      <th>1078</th>\n      <td>wagner</td>\n      <td>1447</td>\n    </tr>\n    <tr>\n      <th>1079</th>\n      <td>wake forest</td>\n      <td>1448</td>\n    </tr>\n    <tr>\n      <th>1080</th>\n      <td>wake-forest</td>\n      <td>1448</td>\n    </tr>\n    <tr>\n      <th>1081</th>\n      <td>washington</td>\n      <td>1449</td>\n    </tr>\n    <tr>\n      <th>1082</th>\n      <td>washington st</td>\n      <td>1450</td>\n    </tr>\n    <tr>\n      <th>1083</th>\n      <td>washington st.</td>\n      <td>1450</td>\n    </tr>\n    <tr>\n      <th>1084</th>\n      <td>washington state</td>\n      <td>1450</td>\n    </tr>\n    <tr>\n      <th>1085</th>\n      <td>washington-st</td>\n      <td>1450</td>\n    </tr>\n    <tr>\n      <th>1086</th>\n      <td>washington-state</td>\n      <td>1450</td>\n    </tr>\n    <tr>\n      <th>1087</th>\n      <td>weber st</td>\n      <td>1451</td>\n    </tr>\n    <tr>\n      <th>1088</th>\n      <td>weber st.</td>\n      <td>1451</td>\n    </tr>\n    <tr>\n      <th>1089</th>\n      <td>weber state</td>\n      <td>1451</td>\n    </tr>\n  </tbody>\n</table>\n</div>"
     },
     "metadata": {},
     "execution_count": 15
    }
   ],
   "source": [
    "teams_df = pd.read_csv(f\"{KAGGLE_DATA_DIR}/MTeams.csv\")\n",
    "spellings_df = pd.read_csv(f\"{KAGGLE_DATA_DIR}/MTeamSpellings.csv\")\n",
    "spellings_df[1040:1090]"
   ]
  },
  {
   "source": [
    "merged_df = kenpom_df.merge(spellings_df, left_on=\"LowerTeamName\", right_on=\"TeamNameSpelling\")[KENPOM_COLS + [\"TeamID\"]]\n",
    "merged_df"
   ],
   "cell_type": "code",
   "metadata": {},
   "execution_count": 16,
   "outputs": [
    {
     "output_type": "execute_result",
     "data": {
      "text/plain": [
       "      Season      TeamName    AdjOE     AdjDE  TeamID\n",
       "0       2013     Air Force  112.884  104.4400    1102\n",
       "1       2011     Air Force  105.717  101.1380    1102\n",
       "2       2003     Air Force  105.340  103.7220    1102\n",
       "3       2019     Air Force  100.431  107.2750    1102\n",
       "4       2007     Air Force  116.286   97.0562    1102\n",
       "...      ...           ...      ...       ...     ...\n",
       "5912    2017    Fort Wayne  109.530  108.0540    1236\n",
       "5913    2018    Fort Wayne  107.616  106.4470    1236\n",
       "5914    2021    Bellarmine  107.357  108.6070    1468\n",
       "5915    2021     Merrimack   91.086  101.3770    1467\n",
       "5916    2021  UC San Diego  101.177  108.2330    1471\n",
       "\n",
       "[5917 rows x 5 columns]"
      ],
      "text/html": "<div>\n<style scoped>\n    .dataframe tbody tr th:only-of-type {\n        vertical-align: middle;\n    }\n\n    .dataframe tbody tr th {\n        vertical-align: top;\n    }\n\n    .dataframe thead th {\n        text-align: right;\n    }\n</style>\n<table border=\"1\" class=\"dataframe\">\n  <thead>\n    <tr style=\"text-align: right;\">\n      <th></th>\n      <th>Season</th>\n      <th>TeamName</th>\n      <th>AdjOE</th>\n      <th>AdjDE</th>\n      <th>TeamID</th>\n    </tr>\n  </thead>\n  <tbody>\n    <tr>\n      <th>0</th>\n      <td>2013</td>\n      <td>Air Force</td>\n      <td>112.884</td>\n      <td>104.4400</td>\n      <td>1102</td>\n    </tr>\n    <tr>\n      <th>1</th>\n      <td>2011</td>\n      <td>Air Force</td>\n      <td>105.717</td>\n      <td>101.1380</td>\n      <td>1102</td>\n    </tr>\n    <tr>\n      <th>2</th>\n      <td>2003</td>\n      <td>Air Force</td>\n      <td>105.340</td>\n      <td>103.7220</td>\n      <td>1102</td>\n    </tr>\n    <tr>\n      <th>3</th>\n      <td>2019</td>\n      <td>Air Force</td>\n      <td>100.431</td>\n      <td>107.2750</td>\n      <td>1102</td>\n    </tr>\n    <tr>\n      <th>4</th>\n      <td>2007</td>\n      <td>Air Force</td>\n      <td>116.286</td>\n      <td>97.0562</td>\n      <td>1102</td>\n    </tr>\n    <tr>\n      <th>...</th>\n      <td>...</td>\n      <td>...</td>\n      <td>...</td>\n      <td>...</td>\n      <td>...</td>\n    </tr>\n    <tr>\n      <th>5912</th>\n      <td>2017</td>\n      <td>Fort Wayne</td>\n      <td>109.530</td>\n      <td>108.0540</td>\n      <td>1236</td>\n    </tr>\n    <tr>\n      <th>5913</th>\n      <td>2018</td>\n      <td>Fort Wayne</td>\n      <td>107.616</td>\n      <td>106.4470</td>\n      <td>1236</td>\n    </tr>\n    <tr>\n      <th>5914</th>\n      <td>2021</td>\n      <td>Bellarmine</td>\n      <td>107.357</td>\n      <td>108.6070</td>\n      <td>1468</td>\n    </tr>\n    <tr>\n      <th>5915</th>\n      <td>2021</td>\n      <td>Merrimack</td>\n      <td>91.086</td>\n      <td>101.3770</td>\n      <td>1467</td>\n    </tr>\n    <tr>\n      <th>5916</th>\n      <td>2021</td>\n      <td>UC San Diego</td>\n      <td>101.177</td>\n      <td>108.2330</td>\n      <td>1471</td>\n    </tr>\n  </tbody>\n</table>\n<p>5917 rows × 5 columns</p>\n</div>"
     },
     "metadata": {},
     "execution_count": 16
    }
   ]
  },
  {
   "cell_type": "code",
   "execution_count": 17,
   "metadata": {},
   "outputs": [
    {
     "output_type": "execute_result",
     "data": {
      "text/plain": [
       "{'Arkansas Little Rock',\n",
       " 'Arkansas Pine Bluff',\n",
       " 'Bethune Cookman',\n",
       " 'Cal St. Bakersfield',\n",
       " 'Dixie St.',\n",
       " 'Illinois Chicago',\n",
       " 'LIU',\n",
       " 'Louisiana Lafayette',\n",
       " 'Louisiana Monroe',\n",
       " 'Maryland Eastern Shore',\n",
       " 'Mississippi Valley St.',\n",
       " 'Southeast Missouri St.',\n",
       " 'Southwest Missouri St.',\n",
       " 'Southwest Texas St.',\n",
       " 'St. Francis NY',\n",
       " 'St. Francis PA',\n",
       " 'Tarleton St.',\n",
       " 'Tennessee Martin',\n",
       " 'Texas A&M Corpus Chris',\n",
       " 'Texas Pan American',\n",
       " 'UT Rio Grande Valley',\n",
       " 'Winston Salem St.'}"
      ]
     },
     "metadata": {},
     "execution_count": 17
    }
   ],
   "source": [
    "missing_teams = set(kenpom_df[\"TeamName\"]) - set(merged_df[\"TeamName\"])\n",
    "missing_teams"
   ]
  },
  {
   "cell_type": "code",
   "execution_count": 18,
   "metadata": {},
   "outputs": [
    {
     "output_type": "stream",
     "name": "stderr",
     "text": [
      "<ipython-input-18-0b009b6d05a8>:2: FutureWarning: The default value of regex will change from True to False in a future version.\n  missing_df[\"LowerTeamName\"] = missing_df[\"LowerTeamName\"].str.replace(\" \", \"-\").str.replace(\"\\.\", \"\").str.replace(\"-st\", \"-state\")\n"
     ]
    },
    {
     "output_type": "execute_result",
     "data": {
      "text/plain": [
       "set()"
      ]
     },
     "metadata": {},
     "execution_count": 18
    }
   ],
   "source": [
    "missing_df = kenpom_df[kenpom_df[\"TeamName\"].isin(missing_teams)].set_index(\"TeamName\")\n",
    "missing_df[\"LowerTeamName\"] = missing_df[\"LowerTeamName\"].str.replace(\" \", \"-\").str.replace(\"\\.\", \"\").str.replace(\"-st\", \"-state\")\n",
    "\n",
    "# Manual overrides\n",
    "missing_df.at[\"Dixie St.\", \"LowerTeamName\"] = \"dixie st\"\n",
    "missing_df.at[\"LIU\", \"LowerTeamName\"] = \"liu-brooklyn\"\n",
    "missing_df.at[\"Southwest Missouri St.\", \"LowerTeamName\"] = \"southwest missouri state\"\n",
    "missing_df.at[\"Southwest Texas St.\", \"LowerTeamName\"] = \"texas-st\"\n",
    "missing_df.at[\"Texas A&M Corpus Chris\", \"LowerTeamName\"] = \"texas a&m cc\"\n",
    "missing_df.at[\"Tarleton St.\", \"LowerTeamName\"] = \"tarleton st\"\n",
    "missing_df.at[\"UT Rio Grande Valley\", \"LowerTeamName\"] = \"utrgv\"\n",
    "\n",
    "\n",
    "dash_merge_df = missing_df.reset_index().merge(spellings_df, left_on=\"LowerTeamName\", right_on=\"TeamNameSpelling\")[KENPOM_COLS + [\"TeamID\"]]\n",
    "merged_df = pd.concat([merged_df, dash_merge_df])\n",
    "missing_teams = set(kenpom_df[\"TeamName\"]) - set(merged_df[\"TeamName\"])\n",
    "missing_teams"
   ]
  },
  {
   "cell_type": "code",
   "execution_count": 19,
   "metadata": {},
   "outputs": [],
   "source": [
    "merged_df.to_csv(f\"{OUTPUT_DATA_DIR}/kenpom.csv\", index=False)"
   ]
  },
  {
   "cell_type": "code",
   "execution_count": 20,
   "metadata": {},
   "outputs": [
    {
     "output_type": "execute_result",
     "data": {
      "text/plain": [
       "Season      0\n",
       "TeamName    0\n",
       "AdjOE       0\n",
       "AdjDE       0\n",
       "TeamID      0\n",
       "dtype: int64"
      ]
     },
     "metadata": {},
     "execution_count": 20
    }
   ],
   "source": [
    "merged_df.isna().sum()"
   ]
  }
 ]
}