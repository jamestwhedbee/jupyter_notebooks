{
 "metadata": {
  "language_info": {
   "codemirror_mode": {
    "name": "ipython",
    "version": 3
   },
   "file_extension": ".py",
   "mimetype": "text/x-python",
   "name": "python",
   "nbconvert_exporter": "python",
   "pygments_lexer": "ipython3",
   "version": "3.8.6-final"
  },
  "orig_nbformat": 2,
  "kernelspec": {
   "name": "base",
   "display_name": "base",
   "language": "python"
  }
 },
 "nbformat": 4,
 "nbformat_minor": 2,
 "cells": [
  {
   "cell_type": "code",
   "execution_count": 1,
   "metadata": {},
   "outputs": [],
   "source": [
    "import pandas as pd\n",
    "import glob\n",
    "import os"
   ]
  },
  {
   "cell_type": "code",
   "execution_count": 2,
   "metadata": {},
   "outputs": [],
   "source": [
    "KENPOM_DATA_DIR = \"/Users/jameswhedbee/jupyter_notebooks/DATA/MarchMadness/KenPom\"\n",
    "KAGGLE_DATA_DIR = \"/Users/jameswhedbee/jupyter_notebooks/DATA/MarchMadness/MDataFiles_Stage2\"\n",
    "OUTPUT_DATA_DIR = \"/Users/jameswhedbee/jupyter_notebooks/DATA/MarchMadness/output\""
   ]
  },
  {
   "cell_type": "code",
   "execution_count": 3,
   "metadata": {},
   "outputs": [],
   "source": [
    "KENPOM_COLS = [\"Season\", \"TeamName\", \"AdjOE\", \"AdjDE\", \"AdjTempo\"]"
   ]
  },
  {
   "cell_type": "code",
   "execution_count": 4,
   "metadata": {},
   "outputs": [
    {
     "output_type": "execute_result",
     "data": {
      "text/plain": [
       "      Season        TeamName     AdjOE     AdjDE  AdjTempo   LowerTeamName\n",
       "0       2013       Air Force  112.8840  104.4400   62.5525       air force\n",
       "1       2013           Akron  107.8010   94.0583   64.6243           akron\n",
       "2       2013         Alabama  104.1100   93.3046   59.7128         alabama\n",
       "3       2013     Alabama A&M   90.5796  111.4980   64.2054     alabama a&m\n",
       "4       2013     Alabama St.   92.2111  112.0520   64.0774     alabama st.\n",
       "...      ...             ...       ...       ...       ...             ...\n",
       "6182    2004      Wright St.  103.6850  104.8470   63.4202      wright st.\n",
       "6183    2004         Wyoming  104.4840   99.8136   68.2696         wyoming\n",
       "6184    2004          Xavier  110.7610   92.9239   64.1432          xavier\n",
       "6185    2004            Yale   99.3150  103.3250   63.1637            yale\n",
       "6186    2004  Youngstown St.   97.1036  105.2700   67.6942  youngstown st.\n",
       "\n",
       "[6187 rows x 6 columns]"
      ],
      "text/html": "<div>\n<style scoped>\n    .dataframe tbody tr th:only-of-type {\n        vertical-align: middle;\n    }\n\n    .dataframe tbody tr th {\n        vertical-align: top;\n    }\n\n    .dataframe thead th {\n        text-align: right;\n    }\n</style>\n<table border=\"1\" class=\"dataframe\">\n  <thead>\n    <tr style=\"text-align: right;\">\n      <th></th>\n      <th>Season</th>\n      <th>TeamName</th>\n      <th>AdjOE</th>\n      <th>AdjDE</th>\n      <th>AdjTempo</th>\n      <th>LowerTeamName</th>\n    </tr>\n  </thead>\n  <tbody>\n    <tr>\n      <th>0</th>\n      <td>2013</td>\n      <td>Air Force</td>\n      <td>112.8840</td>\n      <td>104.4400</td>\n      <td>62.5525</td>\n      <td>air force</td>\n    </tr>\n    <tr>\n      <th>1</th>\n      <td>2013</td>\n      <td>Akron</td>\n      <td>107.8010</td>\n      <td>94.0583</td>\n      <td>64.6243</td>\n      <td>akron</td>\n    </tr>\n    <tr>\n      <th>2</th>\n      <td>2013</td>\n      <td>Alabama</td>\n      <td>104.1100</td>\n      <td>93.3046</td>\n      <td>59.7128</td>\n      <td>alabama</td>\n    </tr>\n    <tr>\n      <th>3</th>\n      <td>2013</td>\n      <td>Alabama A&amp;M</td>\n      <td>90.5796</td>\n      <td>111.4980</td>\n      <td>64.2054</td>\n      <td>alabama a&amp;m</td>\n    </tr>\n    <tr>\n      <th>4</th>\n      <td>2013</td>\n      <td>Alabama St.</td>\n      <td>92.2111</td>\n      <td>112.0520</td>\n      <td>64.0774</td>\n      <td>alabama st.</td>\n    </tr>\n    <tr>\n      <th>...</th>\n      <td>...</td>\n      <td>...</td>\n      <td>...</td>\n      <td>...</td>\n      <td>...</td>\n      <td>...</td>\n    </tr>\n    <tr>\n      <th>6182</th>\n      <td>2004</td>\n      <td>Wright St.</td>\n      <td>103.6850</td>\n      <td>104.8470</td>\n      <td>63.4202</td>\n      <td>wright st.</td>\n    </tr>\n    <tr>\n      <th>6183</th>\n      <td>2004</td>\n      <td>Wyoming</td>\n      <td>104.4840</td>\n      <td>99.8136</td>\n      <td>68.2696</td>\n      <td>wyoming</td>\n    </tr>\n    <tr>\n      <th>6184</th>\n      <td>2004</td>\n      <td>Xavier</td>\n      <td>110.7610</td>\n      <td>92.9239</td>\n      <td>64.1432</td>\n      <td>xavier</td>\n    </tr>\n    <tr>\n      <th>6185</th>\n      <td>2004</td>\n      <td>Yale</td>\n      <td>99.3150</td>\n      <td>103.3250</td>\n      <td>63.1637</td>\n      <td>yale</td>\n    </tr>\n    <tr>\n      <th>6186</th>\n      <td>2004</td>\n      <td>Youngstown St.</td>\n      <td>97.1036</td>\n      <td>105.2700</td>\n      <td>67.6942</td>\n      <td>youngstown st.</td>\n    </tr>\n  </tbody>\n</table>\n<p>6187 rows × 6 columns</p>\n</div>"
     },
     "metadata": {},
     "execution_count": 4
    }
   ],
   "source": [
    "all_files = glob.glob(os.path.join(KENPOM_DATA_DIR, \"*.csv\"))\n",
    "\n",
    "data = []\n",
    "\n",
    "for filename in all_files:\n",
    "    df = pd.read_csv(filename, index_col=None, header=0)\n",
    "    data.append(df)\n",
    "\n",
    "kenpom_df = pd.concat(data, axis=0, ignore_index=True)[KENPOM_COLS]\n",
    "kenpom_df[\"LowerTeamName\"] = kenpom_df[\"TeamName\"].str.lower()\n",
    "kenpom_df"
   ]
  },
  {
   "cell_type": "code",
   "execution_count": 5,
   "metadata": {},
   "outputs": [
    {
     "output_type": "execute_result",
     "data": {
      "text/plain": [
       "                   TeamNameSpelling  TeamID\n",
       "870               southern illinois    1356\n",
       "871  southern illinois-edwardsville    1188\n",
       "872              southern methodist    1374\n",
       "873                   southern miss    1379\n",
       "874                  southern miss.    1379\n",
       "875            southern mississippi    1379\n",
       "876                      southern u    1380\n",
       "877                     southern u.    1380\n",
       "878                     southern un    1380\n",
       "879                   southern univ    1380\n",
       "880                   southern utah    1381\n",
       "881             southern-california    1425\n",
       "882                    southern-ill    1356\n",
       "883               southern-illinois    1356\n",
       "884  southern-illinois-edwardsville    1188\n",
       "885              southern-methodist    1374\n",
       "886                   southern-miss    1379\n",
       "887            southern-mississippi    1379\n",
       "888                      southern-u    1380\n",
       "889             southern-university    1380\n",
       "890                   southern-utah    1381\n",
       "891        southwest missouri state    1283\n",
       "892                  st bonaventure    1382\n",
       "893                 st francis (ny)    1383\n",
       "894                 st francis (pa)    1384\n",
       "895                   st francis ny    1383\n",
       "896                   st francis pa    1384\n",
       "897                       st john's    1385\n",
       "898                  st john's (ny)    1385"
      ],
      "text/html": "<div>\n<style scoped>\n    .dataframe tbody tr th:only-of-type {\n        vertical-align: middle;\n    }\n\n    .dataframe tbody tr th {\n        vertical-align: top;\n    }\n\n    .dataframe thead th {\n        text-align: right;\n    }\n</style>\n<table border=\"1\" class=\"dataframe\">\n  <thead>\n    <tr style=\"text-align: right;\">\n      <th></th>\n      <th>TeamNameSpelling</th>\n      <th>TeamID</th>\n    </tr>\n  </thead>\n  <tbody>\n    <tr>\n      <th>870</th>\n      <td>southern illinois</td>\n      <td>1356</td>\n    </tr>\n    <tr>\n      <th>871</th>\n      <td>southern illinois-edwardsville</td>\n      <td>1188</td>\n    </tr>\n    <tr>\n      <th>872</th>\n      <td>southern methodist</td>\n      <td>1374</td>\n    </tr>\n    <tr>\n      <th>873</th>\n      <td>southern miss</td>\n      <td>1379</td>\n    </tr>\n    <tr>\n      <th>874</th>\n      <td>southern miss.</td>\n      <td>1379</td>\n    </tr>\n    <tr>\n      <th>875</th>\n      <td>southern mississippi</td>\n      <td>1379</td>\n    </tr>\n    <tr>\n      <th>876</th>\n      <td>southern u</td>\n      <td>1380</td>\n    </tr>\n    <tr>\n      <th>877</th>\n      <td>southern u.</td>\n      <td>1380</td>\n    </tr>\n    <tr>\n      <th>878</th>\n      <td>southern un</td>\n      <td>1380</td>\n    </tr>\n    <tr>\n      <th>879</th>\n      <td>southern univ</td>\n      <td>1380</td>\n    </tr>\n    <tr>\n      <th>880</th>\n      <td>southern utah</td>\n      <td>1381</td>\n    </tr>\n    <tr>\n      <th>881</th>\n      <td>southern-california</td>\n      <td>1425</td>\n    </tr>\n    <tr>\n      <th>882</th>\n      <td>southern-ill</td>\n      <td>1356</td>\n    </tr>\n    <tr>\n      <th>883</th>\n      <td>southern-illinois</td>\n      <td>1356</td>\n    </tr>\n    <tr>\n      <th>884</th>\n      <td>southern-illinois-edwardsville</td>\n      <td>1188</td>\n    </tr>\n    <tr>\n      <th>885</th>\n      <td>southern-methodist</td>\n      <td>1374</td>\n    </tr>\n    <tr>\n      <th>886</th>\n      <td>southern-miss</td>\n      <td>1379</td>\n    </tr>\n    <tr>\n      <th>887</th>\n      <td>southern-mississippi</td>\n      <td>1379</td>\n    </tr>\n    <tr>\n      <th>888</th>\n      <td>southern-u</td>\n      <td>1380</td>\n    </tr>\n    <tr>\n      <th>889</th>\n      <td>southern-university</td>\n      <td>1380</td>\n    </tr>\n    <tr>\n      <th>890</th>\n      <td>southern-utah</td>\n      <td>1381</td>\n    </tr>\n    <tr>\n      <th>891</th>\n      <td>southwest missouri state</td>\n      <td>1283</td>\n    </tr>\n    <tr>\n      <th>892</th>\n      <td>st bonaventure</td>\n      <td>1382</td>\n    </tr>\n    <tr>\n      <th>893</th>\n      <td>st francis (ny)</td>\n      <td>1383</td>\n    </tr>\n    <tr>\n      <th>894</th>\n      <td>st francis (pa)</td>\n      <td>1384</td>\n    </tr>\n    <tr>\n      <th>895</th>\n      <td>st francis ny</td>\n      <td>1383</td>\n    </tr>\n    <tr>\n      <th>896</th>\n      <td>st francis pa</td>\n      <td>1384</td>\n    </tr>\n    <tr>\n      <th>897</th>\n      <td>st john's</td>\n      <td>1385</td>\n    </tr>\n    <tr>\n      <th>898</th>\n      <td>st john's (ny)</td>\n      <td>1385</td>\n    </tr>\n  </tbody>\n</table>\n</div>"
     },
     "metadata": {},
     "execution_count": 5
    }
   ],
   "source": [
    "teams_df = pd.read_csv(f\"{KAGGLE_DATA_DIR}/MTeams.csv\")\n",
    "spellings_df = pd.read_csv(f\"{KAGGLE_DATA_DIR}/MTeamSpellings.csv\")\n",
    "spellings_df[870:899]"
   ]
  },
  {
   "source": [
    "merged_df = kenpom_df.merge(spellings_df, left_on=\"LowerTeamName\", right_on=\"TeamNameSpelling\")[KENPOM_COLS + [\"TeamID\"]]\n",
    "merged_df"
   ],
   "cell_type": "code",
   "metadata": {},
   "execution_count": 6,
   "outputs": [
    {
     "output_type": "execute_result",
     "data": {
      "text/plain": [
       "      Season      TeamName     AdjOE     AdjDE  AdjTempo  TeamID\n",
       "0       2013     Air Force  112.8840  104.4400   62.5525    1102\n",
       "1       2011     Air Force  105.7170  101.1380   61.2714    1102\n",
       "2       2003     Air Force  105.3400  103.7220   52.9909    1102\n",
       "3       2019     Air Force  100.4310  107.2750   66.4070    1102\n",
       "4       2007     Air Force  116.2860   97.0562   56.6656    1102\n",
       "...      ...           ...       ...       ...       ...     ...\n",
       "5912    2017    Fort Wayne  109.5300  108.0540   71.2523    1236\n",
       "5913    2018    Fort Wayne  107.6160  106.4470   72.5983    1236\n",
       "5914    2021    Bellarmine  107.4090  108.6840   64.6109    1468\n",
       "5915    2021     Merrimack   90.8608  101.7180   66.7842    1467\n",
       "5916    2021  UC San Diego  101.2000  108.3140   69.9715    1471\n",
       "\n",
       "[5917 rows x 6 columns]"
      ],
      "text/html": "<div>\n<style scoped>\n    .dataframe tbody tr th:only-of-type {\n        vertical-align: middle;\n    }\n\n    .dataframe tbody tr th {\n        vertical-align: top;\n    }\n\n    .dataframe thead th {\n        text-align: right;\n    }\n</style>\n<table border=\"1\" class=\"dataframe\">\n  <thead>\n    <tr style=\"text-align: right;\">\n      <th></th>\n      <th>Season</th>\n      <th>TeamName</th>\n      <th>AdjOE</th>\n      <th>AdjDE</th>\n      <th>AdjTempo</th>\n      <th>TeamID</th>\n    </tr>\n  </thead>\n  <tbody>\n    <tr>\n      <th>0</th>\n      <td>2013</td>\n      <td>Air Force</td>\n      <td>112.8840</td>\n      <td>104.4400</td>\n      <td>62.5525</td>\n      <td>1102</td>\n    </tr>\n    <tr>\n      <th>1</th>\n      <td>2011</td>\n      <td>Air Force</td>\n      <td>105.7170</td>\n      <td>101.1380</td>\n      <td>61.2714</td>\n      <td>1102</td>\n    </tr>\n    <tr>\n      <th>2</th>\n      <td>2003</td>\n      <td>Air Force</td>\n      <td>105.3400</td>\n      <td>103.7220</td>\n      <td>52.9909</td>\n      <td>1102</td>\n    </tr>\n    <tr>\n      <th>3</th>\n      <td>2019</td>\n      <td>Air Force</td>\n      <td>100.4310</td>\n      <td>107.2750</td>\n      <td>66.4070</td>\n      <td>1102</td>\n    </tr>\n    <tr>\n      <th>4</th>\n      <td>2007</td>\n      <td>Air Force</td>\n      <td>116.2860</td>\n      <td>97.0562</td>\n      <td>56.6656</td>\n      <td>1102</td>\n    </tr>\n    <tr>\n      <th>...</th>\n      <td>...</td>\n      <td>...</td>\n      <td>...</td>\n      <td>...</td>\n      <td>...</td>\n      <td>...</td>\n    </tr>\n    <tr>\n      <th>5912</th>\n      <td>2017</td>\n      <td>Fort Wayne</td>\n      <td>109.5300</td>\n      <td>108.0540</td>\n      <td>71.2523</td>\n      <td>1236</td>\n    </tr>\n    <tr>\n      <th>5913</th>\n      <td>2018</td>\n      <td>Fort Wayne</td>\n      <td>107.6160</td>\n      <td>106.4470</td>\n      <td>72.5983</td>\n      <td>1236</td>\n    </tr>\n    <tr>\n      <th>5914</th>\n      <td>2021</td>\n      <td>Bellarmine</td>\n      <td>107.4090</td>\n      <td>108.6840</td>\n      <td>64.6109</td>\n      <td>1468</td>\n    </tr>\n    <tr>\n      <th>5915</th>\n      <td>2021</td>\n      <td>Merrimack</td>\n      <td>90.8608</td>\n      <td>101.7180</td>\n      <td>66.7842</td>\n      <td>1467</td>\n    </tr>\n    <tr>\n      <th>5916</th>\n      <td>2021</td>\n      <td>UC San Diego</td>\n      <td>101.2000</td>\n      <td>108.3140</td>\n      <td>69.9715</td>\n      <td>1471</td>\n    </tr>\n  </tbody>\n</table>\n<p>5917 rows × 6 columns</p>\n</div>"
     },
     "metadata": {},
     "execution_count": 6
    }
   ]
  },
  {
   "cell_type": "code",
   "execution_count": 7,
   "metadata": {},
   "outputs": [
    {
     "output_type": "execute_result",
     "data": {
      "text/plain": [
       "{'Arkansas Little Rock',\n",
       " 'Arkansas Pine Bluff',\n",
       " 'Bethune Cookman',\n",
       " 'Cal St. Bakersfield',\n",
       " 'Dixie St.',\n",
       " 'Illinois Chicago',\n",
       " 'LIU',\n",
       " 'Louisiana Lafayette',\n",
       " 'Louisiana Monroe',\n",
       " 'Maryland Eastern Shore',\n",
       " 'Mississippi Valley St.',\n",
       " 'Southeast Missouri St.',\n",
       " 'Southwest Missouri St.',\n",
       " 'Southwest Texas St.',\n",
       " 'St. Francis NY',\n",
       " 'St. Francis PA',\n",
       " 'Tarleton St.',\n",
       " 'Tennessee Martin',\n",
       " 'Texas A&M Corpus Chris',\n",
       " 'Texas Pan American',\n",
       " 'UT Rio Grande Valley',\n",
       " 'Winston Salem St.'}"
      ]
     },
     "metadata": {},
     "execution_count": 7
    }
   ],
   "source": [
    "missing_teams = set(kenpom_df[\"TeamName\"]) - set(merged_df[\"TeamName\"])\n",
    "missing_teams"
   ]
  },
  {
   "cell_type": "code",
   "execution_count": 8,
   "metadata": {},
   "outputs": [
    {
     "output_type": "stream",
     "name": "stderr",
     "text": [
      "<ipython-input-8-84477e04aab3>:2: FutureWarning: The default value of regex will change from True to False in a future version.\n  missing_df[\"LowerTeamName\"] = missing_df[\"LowerTeamName\"].str.replace(\" \", \"-\").str.replace(\"\\.\", \"\").str.replace(\"-st\", \"-state\")\n<ipython-input-8-84477e04aab3>:2: SettingWithCopyWarning: \nA value is trying to be set on a copy of a slice from a DataFrame.\nTry using .loc[row_indexer,col_indexer] = value instead\n\nSee the caveats in the documentation: https://pandas.pydata.org/pandas-docs/stable/user_guide/indexing.html#returning-a-view-versus-a-copy\n  missing_df[\"LowerTeamName\"] = missing_df[\"LowerTeamName\"].str.replace(\" \", \"-\").str.replace(\"\\.\", \"\").str.replace(\"-st\", \"-state\")\n"
     ]
    },
    {
     "output_type": "execute_result",
     "data": {
      "text/plain": [
       "{'Dixie St.',\n",
       " 'LIU',\n",
       " 'Southwest Missouri St.',\n",
       " 'Southwest Texas St.',\n",
       " 'Tarleton St.',\n",
       " 'Texas A&M Corpus Chris',\n",
       " 'UT Rio Grande Valley'}"
      ]
     },
     "metadata": {},
     "execution_count": 8
    }
   ],
   "source": [
    "missing_df = kenpom_df[kenpom_df[\"TeamName\"].isin(missing_teams)]\n",
    "missing_df[\"LowerTeamName\"] = missing_df[\"LowerTeamName\"].str.replace(\" \", \"-\").str.replace(\"\\.\", \"\").str.replace(\"-st\", \"-state\")\n",
    "dash_merge_df = missing_df.merge(spellings_df, left_on=\"LowerTeamName\", right_on=\"TeamNameSpelling\")[KENPOM_COLS + [\"TeamID\"]]\n",
    "merged_df = pd.concat([merged_df, dash_merge_df])\n",
    "missing_teams = set(kenpom_df[\"TeamName\"]) - set(merged_df[\"TeamName\"])\n",
    "missing_teams"
   ]
  },
  {
   "cell_type": "code",
   "execution_count": 9,
   "metadata": {},
   "outputs": [
    {
     "output_type": "execute_result",
     "data": {
      "text/plain": [
       "      Season                TeamName     AdjOE     AdjDE  AdjTempo  \\\n",
       "287     2013  Texas A&M Corpus Chris   96.0484  110.9970   60.1111   \n",
       "632     2011  Texas A&M Corpus Chris   92.2646  108.2170   64.8912   \n",
       "773     2003  Southwest Missouri St.  100.6670   92.4722   63.5846   \n",
       "884     2003     Southwest Texas St.  101.7770  104.5450   67.5136   \n",
       "942     2003  Texas A&M Corpus Chris   99.2130  108.4200   72.8476   \n",
       "1311    2019  Texas A&M Corpus Chris   94.4776  104.4210   64.7448   \n",
       "1338    2019    UT Rio Grande Valley   99.2620   99.6347   70.0964   \n",
       "1464    2007  Texas A&M Corpus Chris  114.2010  106.4770   67.5189   \n",
       "1998    2015  Texas A&M Corpus Chris   99.6450  104.9700   62.1247   \n",
       "2349    2017  Texas A&M Corpus Chris  102.9550  106.2110   67.8840   \n",
       "2376    2017    UT Rio Grande Valley  100.3140  113.2400   73.8828   \n",
       "2693    2009  Texas A&M Corpus Chris   99.5689   99.2890   65.7566   \n",
       "2809    2005  Southwest Missouri St.  107.7760   95.9538   68.2758   \n",
       "2919    2005  Texas A&M Corpus Chris  104.6480  104.7800   66.5817   \n",
       "3155    2021               Dixie St.   90.8882  107.2470   73.3004   \n",
       "3229    2021                     LIU   93.5439  103.3640   73.9535   \n",
       "3370    2021            Tarleton St.   96.6640  106.0860   64.6068   \n",
       "3379    2021  Texas A&M Corpus Chris   89.2069  108.6470   69.8135   \n",
       "3407    2021    UT Rio Grande Valley   91.4927  102.7830   69.8756   \n",
       "3745    2012  Texas A&M Corpus Chris   89.7385  104.3800   64.1557   \n",
       "4072    2010  Texas A&M Corpus Chris   98.9214   99.0408   64.3381   \n",
       "4253    2006  Texas A&M Corpus Chris  104.2940   99.3784   69.0117   \n",
       "4757    2018  Texas A&M Corpus Chris   94.8618  107.7930   68.1854   \n",
       "4784    2018    UT Rio Grande Valley   99.5267  107.8840   73.7538   \n",
       "5108    2014  Texas A&M Corpus Chris  103.9030  109.3830   60.6284   \n",
       "5438    2008  Texas A&M Corpus Chris   96.6362  106.8860   62.9549   \n",
       "5511    2016    UT Rio Grande Valley   94.8365  117.0540   67.4267   \n",
       "5587    2016  Texas A&M Corpus Chris  102.2800  102.2320   68.4216   \n",
       "6112    2004  Southwest Missouri St.  105.1910   98.5461   63.4879   \n",
       "6130    2004  Texas A&M Corpus Chris  101.8750  107.0100   67.8680   \n",
       "\n",
       "                 LowerTeamName  \n",
       "287     texas-a&m-corpus-chris  \n",
       "632     texas-a&m-corpus-chris  \n",
       "773   southwest-missouri-state  \n",
       "884      southwest-texas-state  \n",
       "942     texas-a&m-corpus-chris  \n",
       "1311    texas-a&m-corpus-chris  \n",
       "1338      ut-rio-grande-valley  \n",
       "1464    texas-a&m-corpus-chris  \n",
       "1998    texas-a&m-corpus-chris  \n",
       "2349    texas-a&m-corpus-chris  \n",
       "2376      ut-rio-grande-valley  \n",
       "2693    texas-a&m-corpus-chris  \n",
       "2809  southwest-missouri-state  \n",
       "2919    texas-a&m-corpus-chris  \n",
       "3155               dixie-state  \n",
       "3229                       liu  \n",
       "3370            tarleton-state  \n",
       "3379    texas-a&m-corpus-chris  \n",
       "3407      ut-rio-grande-valley  \n",
       "3745    texas-a&m-corpus-chris  \n",
       "4072    texas-a&m-corpus-chris  \n",
       "4253    texas-a&m-corpus-chris  \n",
       "4757    texas-a&m-corpus-chris  \n",
       "4784      ut-rio-grande-valley  \n",
       "5108    texas-a&m-corpus-chris  \n",
       "5438    texas-a&m-corpus-chris  \n",
       "5511      ut-rio-grande-valley  \n",
       "5587    texas-a&m-corpus-chris  \n",
       "6112  southwest-missouri-state  \n",
       "6130    texas-a&m-corpus-chris  "
      ],
      "text/html": "<div>\n<style scoped>\n    .dataframe tbody tr th:only-of-type {\n        vertical-align: middle;\n    }\n\n    .dataframe tbody tr th {\n        vertical-align: top;\n    }\n\n    .dataframe thead th {\n        text-align: right;\n    }\n</style>\n<table border=\"1\" class=\"dataframe\">\n  <thead>\n    <tr style=\"text-align: right;\">\n      <th></th>\n      <th>Season</th>\n      <th>TeamName</th>\n      <th>AdjOE</th>\n      <th>AdjDE</th>\n      <th>AdjTempo</th>\n      <th>LowerTeamName</th>\n    </tr>\n  </thead>\n  <tbody>\n    <tr>\n      <th>287</th>\n      <td>2013</td>\n      <td>Texas A&amp;M Corpus Chris</td>\n      <td>96.0484</td>\n      <td>110.9970</td>\n      <td>60.1111</td>\n      <td>texas-a&amp;m-corpus-chris</td>\n    </tr>\n    <tr>\n      <th>632</th>\n      <td>2011</td>\n      <td>Texas A&amp;M Corpus Chris</td>\n      <td>92.2646</td>\n      <td>108.2170</td>\n      <td>64.8912</td>\n      <td>texas-a&amp;m-corpus-chris</td>\n    </tr>\n    <tr>\n      <th>773</th>\n      <td>2003</td>\n      <td>Southwest Missouri St.</td>\n      <td>100.6670</td>\n      <td>92.4722</td>\n      <td>63.5846</td>\n      <td>southwest-missouri-state</td>\n    </tr>\n    <tr>\n      <th>884</th>\n      <td>2003</td>\n      <td>Southwest Texas St.</td>\n      <td>101.7770</td>\n      <td>104.5450</td>\n      <td>67.5136</td>\n      <td>southwest-texas-state</td>\n    </tr>\n    <tr>\n      <th>942</th>\n      <td>2003</td>\n      <td>Texas A&amp;M Corpus Chris</td>\n      <td>99.2130</td>\n      <td>108.4200</td>\n      <td>72.8476</td>\n      <td>texas-a&amp;m-corpus-chris</td>\n    </tr>\n    <tr>\n      <th>1311</th>\n      <td>2019</td>\n      <td>Texas A&amp;M Corpus Chris</td>\n      <td>94.4776</td>\n      <td>104.4210</td>\n      <td>64.7448</td>\n      <td>texas-a&amp;m-corpus-chris</td>\n    </tr>\n    <tr>\n      <th>1338</th>\n      <td>2019</td>\n      <td>UT Rio Grande Valley</td>\n      <td>99.2620</td>\n      <td>99.6347</td>\n      <td>70.0964</td>\n      <td>ut-rio-grande-valley</td>\n    </tr>\n    <tr>\n      <th>1464</th>\n      <td>2007</td>\n      <td>Texas A&amp;M Corpus Chris</td>\n      <td>114.2010</td>\n      <td>106.4770</td>\n      <td>67.5189</td>\n      <td>texas-a&amp;m-corpus-chris</td>\n    </tr>\n    <tr>\n      <th>1998</th>\n      <td>2015</td>\n      <td>Texas A&amp;M Corpus Chris</td>\n      <td>99.6450</td>\n      <td>104.9700</td>\n      <td>62.1247</td>\n      <td>texas-a&amp;m-corpus-chris</td>\n    </tr>\n    <tr>\n      <th>2349</th>\n      <td>2017</td>\n      <td>Texas A&amp;M Corpus Chris</td>\n      <td>102.9550</td>\n      <td>106.2110</td>\n      <td>67.8840</td>\n      <td>texas-a&amp;m-corpus-chris</td>\n    </tr>\n    <tr>\n      <th>2376</th>\n      <td>2017</td>\n      <td>UT Rio Grande Valley</td>\n      <td>100.3140</td>\n      <td>113.2400</td>\n      <td>73.8828</td>\n      <td>ut-rio-grande-valley</td>\n    </tr>\n    <tr>\n      <th>2693</th>\n      <td>2009</td>\n      <td>Texas A&amp;M Corpus Chris</td>\n      <td>99.5689</td>\n      <td>99.2890</td>\n      <td>65.7566</td>\n      <td>texas-a&amp;m-corpus-chris</td>\n    </tr>\n    <tr>\n      <th>2809</th>\n      <td>2005</td>\n      <td>Southwest Missouri St.</td>\n      <td>107.7760</td>\n      <td>95.9538</td>\n      <td>68.2758</td>\n      <td>southwest-missouri-state</td>\n    </tr>\n    <tr>\n      <th>2919</th>\n      <td>2005</td>\n      <td>Texas A&amp;M Corpus Chris</td>\n      <td>104.6480</td>\n      <td>104.7800</td>\n      <td>66.5817</td>\n      <td>texas-a&amp;m-corpus-chris</td>\n    </tr>\n    <tr>\n      <th>3155</th>\n      <td>2021</td>\n      <td>Dixie St.</td>\n      <td>90.8882</td>\n      <td>107.2470</td>\n      <td>73.3004</td>\n      <td>dixie-state</td>\n    </tr>\n    <tr>\n      <th>3229</th>\n      <td>2021</td>\n      <td>LIU</td>\n      <td>93.5439</td>\n      <td>103.3640</td>\n      <td>73.9535</td>\n      <td>liu</td>\n    </tr>\n    <tr>\n      <th>3370</th>\n      <td>2021</td>\n      <td>Tarleton St.</td>\n      <td>96.6640</td>\n      <td>106.0860</td>\n      <td>64.6068</td>\n      <td>tarleton-state</td>\n    </tr>\n    <tr>\n      <th>3379</th>\n      <td>2021</td>\n      <td>Texas A&amp;M Corpus Chris</td>\n      <td>89.2069</td>\n      <td>108.6470</td>\n      <td>69.8135</td>\n      <td>texas-a&amp;m-corpus-chris</td>\n    </tr>\n    <tr>\n      <th>3407</th>\n      <td>2021</td>\n      <td>UT Rio Grande Valley</td>\n      <td>91.4927</td>\n      <td>102.7830</td>\n      <td>69.8756</td>\n      <td>ut-rio-grande-valley</td>\n    </tr>\n    <tr>\n      <th>3745</th>\n      <td>2012</td>\n      <td>Texas A&amp;M Corpus Chris</td>\n      <td>89.7385</td>\n      <td>104.3800</td>\n      <td>64.1557</td>\n      <td>texas-a&amp;m-corpus-chris</td>\n    </tr>\n    <tr>\n      <th>4072</th>\n      <td>2010</td>\n      <td>Texas A&amp;M Corpus Chris</td>\n      <td>98.9214</td>\n      <td>99.0408</td>\n      <td>64.3381</td>\n      <td>texas-a&amp;m-corpus-chris</td>\n    </tr>\n    <tr>\n      <th>4253</th>\n      <td>2006</td>\n      <td>Texas A&amp;M Corpus Chris</td>\n      <td>104.2940</td>\n      <td>99.3784</td>\n      <td>69.0117</td>\n      <td>texas-a&amp;m-corpus-chris</td>\n    </tr>\n    <tr>\n      <th>4757</th>\n      <td>2018</td>\n      <td>Texas A&amp;M Corpus Chris</td>\n      <td>94.8618</td>\n      <td>107.7930</td>\n      <td>68.1854</td>\n      <td>texas-a&amp;m-corpus-chris</td>\n    </tr>\n    <tr>\n      <th>4784</th>\n      <td>2018</td>\n      <td>UT Rio Grande Valley</td>\n      <td>99.5267</td>\n      <td>107.8840</td>\n      <td>73.7538</td>\n      <td>ut-rio-grande-valley</td>\n    </tr>\n    <tr>\n      <th>5108</th>\n      <td>2014</td>\n      <td>Texas A&amp;M Corpus Chris</td>\n      <td>103.9030</td>\n      <td>109.3830</td>\n      <td>60.6284</td>\n      <td>texas-a&amp;m-corpus-chris</td>\n    </tr>\n    <tr>\n      <th>5438</th>\n      <td>2008</td>\n      <td>Texas A&amp;M Corpus Chris</td>\n      <td>96.6362</td>\n      <td>106.8860</td>\n      <td>62.9549</td>\n      <td>texas-a&amp;m-corpus-chris</td>\n    </tr>\n    <tr>\n      <th>5511</th>\n      <td>2016</td>\n      <td>UT Rio Grande Valley</td>\n      <td>94.8365</td>\n      <td>117.0540</td>\n      <td>67.4267</td>\n      <td>ut-rio-grande-valley</td>\n    </tr>\n    <tr>\n      <th>5587</th>\n      <td>2016</td>\n      <td>Texas A&amp;M Corpus Chris</td>\n      <td>102.2800</td>\n      <td>102.2320</td>\n      <td>68.4216</td>\n      <td>texas-a&amp;m-corpus-chris</td>\n    </tr>\n    <tr>\n      <th>6112</th>\n      <td>2004</td>\n      <td>Southwest Missouri St.</td>\n      <td>105.1910</td>\n      <td>98.5461</td>\n      <td>63.4879</td>\n      <td>southwest-missouri-state</td>\n    </tr>\n    <tr>\n      <th>6130</th>\n      <td>2004</td>\n      <td>Texas A&amp;M Corpus Chris</td>\n      <td>101.8750</td>\n      <td>107.0100</td>\n      <td>67.8680</td>\n      <td>texas-a&amp;m-corpus-chris</td>\n    </tr>\n  </tbody>\n</table>\n</div>"
     },
     "metadata": {},
     "execution_count": 9
    }
   ],
   "source": [
    "missing_df[missing_df[\"TeamName\"].isin(missing_teams)]"
   ]
  },
  {
   "cell_type": "code",
   "execution_count": 10,
   "metadata": {},
   "outputs": [],
   "source": [
    "merged_df.to_csv(f\"{OUTPUT_DATA_DIR}/kenpom.csv\", index=False)"
   ]
  },
  {
   "cell_type": "code",
   "execution_count": null,
   "metadata": {},
   "outputs": [],
   "source": []
  }
 ]
}