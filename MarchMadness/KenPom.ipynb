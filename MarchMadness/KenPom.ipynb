{
 "metadata": {
  "language_info": {
   "codemirror_mode": {
    "name": "ipython",
    "version": 3
   },
   "file_extension": ".py",
   "mimetype": "text/x-python",
   "name": "python",
   "nbconvert_exporter": "python",
   "pygments_lexer": "ipython3",
   "version": "3.8.6-final"
  },
  "orig_nbformat": 2,
  "kernelspec": {
   "name": "base",
   "display_name": "base",
   "language": "python"
  }
 },
 "nbformat": 4,
 "nbformat_minor": 2,
 "cells": [
  {
   "cell_type": "code",
   "execution_count": 1,
   "metadata": {},
   "outputs": [],
   "source": [
    "import pandas as pd\n",
    "import glob\n",
    "import os"
   ]
  },
  {
   "cell_type": "code",
   "execution_count": 2,
   "metadata": {},
   "outputs": [],
   "source": [
    "KENPOM_DATA_DIR = \"/Users/jameswhedbee/jupyter_notebooks/DATA/MarchMadness/KenPom\"\n",
    "KAGGLE_DATA_DIR = \"/Users/jameswhedbee/jupyter_notebooks/DATA/MarchMadness/MDataFiles_Stage2\"\n",
    "OUTPUT_DATA_DIR = \"/Users/jameswhedbee/jupyter_notebooks/DATA/MarchMadness/output\""
   ]
  },
  {
   "cell_type": "code",
   "execution_count": 3,
   "metadata": {},
   "outputs": [],
   "source": [
    "KENPOM_COLS = [\"Season\", \"TeamName\", \"AdjOE\", \"AdjDE\"]"
   ]
  },
  {
   "cell_type": "code",
   "execution_count": 4,
   "metadata": {},
   "outputs": [
    {
     "output_type": "execute_result",
     "data": {
      "text/plain": [
       "      Season        TeamName     AdjOE     AdjDE   LowerTeamName\n",
       "0       2013       Air Force  112.8840  104.4400       air force\n",
       "1       2013           Akron  107.8010   94.0583           akron\n",
       "2       2013         Alabama  104.1100   93.3046         alabama\n",
       "3       2013     Alabama A&M   90.5796  111.4980     alabama a&m\n",
       "4       2013     Alabama St.   92.2111  112.0520     alabama st.\n",
       "...      ...             ...       ...       ...             ...\n",
       "6182    2004      Wright St.  103.6850  104.8470      wright st.\n",
       "6183    2004         Wyoming  104.4840   99.8136         wyoming\n",
       "6184    2004          Xavier  110.7610   92.9239          xavier\n",
       "6185    2004            Yale   99.3150  103.3250            yale\n",
       "6186    2004  Youngstown St.   97.1036  105.2700  youngstown st.\n",
       "\n",
       "[6187 rows x 5 columns]"
      ],
      "text/html": "<div>\n<style scoped>\n    .dataframe tbody tr th:only-of-type {\n        vertical-align: middle;\n    }\n\n    .dataframe tbody tr th {\n        vertical-align: top;\n    }\n\n    .dataframe thead th {\n        text-align: right;\n    }\n</style>\n<table border=\"1\" class=\"dataframe\">\n  <thead>\n    <tr style=\"text-align: right;\">\n      <th></th>\n      <th>Season</th>\n      <th>TeamName</th>\n      <th>AdjOE</th>\n      <th>AdjDE</th>\n      <th>LowerTeamName</th>\n    </tr>\n  </thead>\n  <tbody>\n    <tr>\n      <th>0</th>\n      <td>2013</td>\n      <td>Air Force</td>\n      <td>112.8840</td>\n      <td>104.4400</td>\n      <td>air force</td>\n    </tr>\n    <tr>\n      <th>1</th>\n      <td>2013</td>\n      <td>Akron</td>\n      <td>107.8010</td>\n      <td>94.0583</td>\n      <td>akron</td>\n    </tr>\n    <tr>\n      <th>2</th>\n      <td>2013</td>\n      <td>Alabama</td>\n      <td>104.1100</td>\n      <td>93.3046</td>\n      <td>alabama</td>\n    </tr>\n    <tr>\n      <th>3</th>\n      <td>2013</td>\n      <td>Alabama A&amp;M</td>\n      <td>90.5796</td>\n      <td>111.4980</td>\n      <td>alabama a&amp;m</td>\n    </tr>\n    <tr>\n      <th>4</th>\n      <td>2013</td>\n      <td>Alabama St.</td>\n      <td>92.2111</td>\n      <td>112.0520</td>\n      <td>alabama st.</td>\n    </tr>\n    <tr>\n      <th>...</th>\n      <td>...</td>\n      <td>...</td>\n      <td>...</td>\n      <td>...</td>\n      <td>...</td>\n    </tr>\n    <tr>\n      <th>6182</th>\n      <td>2004</td>\n      <td>Wright St.</td>\n      <td>103.6850</td>\n      <td>104.8470</td>\n      <td>wright st.</td>\n    </tr>\n    <tr>\n      <th>6183</th>\n      <td>2004</td>\n      <td>Wyoming</td>\n      <td>104.4840</td>\n      <td>99.8136</td>\n      <td>wyoming</td>\n    </tr>\n    <tr>\n      <th>6184</th>\n      <td>2004</td>\n      <td>Xavier</td>\n      <td>110.7610</td>\n      <td>92.9239</td>\n      <td>xavier</td>\n    </tr>\n    <tr>\n      <th>6185</th>\n      <td>2004</td>\n      <td>Yale</td>\n      <td>99.3150</td>\n      <td>103.3250</td>\n      <td>yale</td>\n    </tr>\n    <tr>\n      <th>6186</th>\n      <td>2004</td>\n      <td>Youngstown St.</td>\n      <td>97.1036</td>\n      <td>105.2700</td>\n      <td>youngstown st.</td>\n    </tr>\n  </tbody>\n</table>\n<p>6187 rows × 5 columns</p>\n</div>"
     },
     "metadata": {},
     "execution_count": 4
    }
   ],
   "source": [
    "all_files = glob.glob(os.path.join(KENPOM_DATA_DIR, \"*.csv\"))\n",
    "\n",
    "data = []\n",
    "\n",
    "for filename in all_files:\n",
    "    df = pd.read_csv(filename, index_col=None, header=0)\n",
    "    data.append(df)\n",
    "\n",
    "kenpom_df = pd.concat(data, axis=0, ignore_index=True)[KENPOM_COLS]\n",
    "kenpom_df[\"LowerTeamName\"] = kenpom_df[\"TeamName\"].str.lower()\n",
    "kenpom_df"
   ]
  },
  {
   "cell_type": "code",
   "execution_count": 5,
   "metadata": {},
   "outputs": [
    {
     "output_type": "execute_result",
     "data": {
      "text/plain": [
       "     TeamID      TeamName  FirstD1Season  LastD1Season\n",
       "0      1101   Abilene Chr           2014          2021\n",
       "1      1102     Air Force           1985          2021\n",
       "2      1103         Akron           1985          2021\n",
       "3      1104       Alabama           1985          2021\n",
       "4      1105   Alabama A&M           2000          2021\n",
       "..      ...           ...            ...           ...\n",
       "366    1467     Merrimack           2020          2021\n",
       "367    1468    Bellarmine           2021          2021\n",
       "368    1469      Dixie St           2021          2021\n",
       "369    1470   Tarleton St           2021          2021\n",
       "370    1471  UC San Diego           2021          2021\n",
       "\n",
       "[371 rows x 4 columns]"
      ],
      "text/html": "<div>\n<style scoped>\n    .dataframe tbody tr th:only-of-type {\n        vertical-align: middle;\n    }\n\n    .dataframe tbody tr th {\n        vertical-align: top;\n    }\n\n    .dataframe thead th {\n        text-align: right;\n    }\n</style>\n<table border=\"1\" class=\"dataframe\">\n  <thead>\n    <tr style=\"text-align: right;\">\n      <th></th>\n      <th>TeamID</th>\n      <th>TeamName</th>\n      <th>FirstD1Season</th>\n      <th>LastD1Season</th>\n    </tr>\n  </thead>\n  <tbody>\n    <tr>\n      <th>0</th>\n      <td>1101</td>\n      <td>Abilene Chr</td>\n      <td>2014</td>\n      <td>2021</td>\n    </tr>\n    <tr>\n      <th>1</th>\n      <td>1102</td>\n      <td>Air Force</td>\n      <td>1985</td>\n      <td>2021</td>\n    </tr>\n    <tr>\n      <th>2</th>\n      <td>1103</td>\n      <td>Akron</td>\n      <td>1985</td>\n      <td>2021</td>\n    </tr>\n    <tr>\n      <th>3</th>\n      <td>1104</td>\n      <td>Alabama</td>\n      <td>1985</td>\n      <td>2021</td>\n    </tr>\n    <tr>\n      <th>4</th>\n      <td>1105</td>\n      <td>Alabama A&amp;M</td>\n      <td>2000</td>\n      <td>2021</td>\n    </tr>\n    <tr>\n      <th>...</th>\n      <td>...</td>\n      <td>...</td>\n      <td>...</td>\n      <td>...</td>\n    </tr>\n    <tr>\n      <th>366</th>\n      <td>1467</td>\n      <td>Merrimack</td>\n      <td>2020</td>\n      <td>2021</td>\n    </tr>\n    <tr>\n      <th>367</th>\n      <td>1468</td>\n      <td>Bellarmine</td>\n      <td>2021</td>\n      <td>2021</td>\n    </tr>\n    <tr>\n      <th>368</th>\n      <td>1469</td>\n      <td>Dixie St</td>\n      <td>2021</td>\n      <td>2021</td>\n    </tr>\n    <tr>\n      <th>369</th>\n      <td>1470</td>\n      <td>Tarleton St</td>\n      <td>2021</td>\n      <td>2021</td>\n    </tr>\n    <tr>\n      <th>370</th>\n      <td>1471</td>\n      <td>UC San Diego</td>\n      <td>2021</td>\n      <td>2021</td>\n    </tr>\n  </tbody>\n</table>\n<p>371 rows × 4 columns</p>\n</div>"
     },
     "metadata": {},
     "execution_count": 5
    }
   ],
   "source": [
    "teams_df = pd.read_csv(f\"{KAGGLE_DATA_DIR}/MTeams.csv\")\n",
    "spellings_df = pd.read_csv(f\"{KAGGLE_DATA_DIR}/MTeamSpellings.csv\")\n",
    "teams_df"
   ]
  },
  {
   "source": [
    "merged_df = kenpom_df.merge(spellings_df, left_on=\"LowerTeamName\", right_on=\"TeamNameSpelling\")[KENPOM_COLS + [\"TeamID\"]]\n",
    "merged_df"
   ],
   "cell_type": "code",
   "metadata": {},
   "execution_count": 6,
   "outputs": [
    {
     "output_type": "execute_result",
     "data": {
      "text/plain": [
       "      Season      TeamName     AdjOE     AdjDE  TeamID\n",
       "0       2013     Air Force  112.8840  104.4400    1102\n",
       "1       2011     Air Force  105.7170  101.1380    1102\n",
       "2       2003     Air Force  105.3400  103.7220    1102\n",
       "3       2019     Air Force  100.4310  107.2750    1102\n",
       "4       2007     Air Force  116.2860   97.0562    1102\n",
       "...      ...           ...       ...       ...     ...\n",
       "5912    2017    Fort Wayne  109.5300  108.0540    1236\n",
       "5913    2018    Fort Wayne  107.6160  106.4470    1236\n",
       "5914    2021    Bellarmine  107.4090  108.6840    1468\n",
       "5915    2021     Merrimack   90.8608  101.7180    1467\n",
       "5916    2021  UC San Diego  101.2000  108.3140    1471\n",
       "\n",
       "[5917 rows x 5 columns]"
      ],
      "text/html": "<div>\n<style scoped>\n    .dataframe tbody tr th:only-of-type {\n        vertical-align: middle;\n    }\n\n    .dataframe tbody tr th {\n        vertical-align: top;\n    }\n\n    .dataframe thead th {\n        text-align: right;\n    }\n</style>\n<table border=\"1\" class=\"dataframe\">\n  <thead>\n    <tr style=\"text-align: right;\">\n      <th></th>\n      <th>Season</th>\n      <th>TeamName</th>\n      <th>AdjOE</th>\n      <th>AdjDE</th>\n      <th>TeamID</th>\n    </tr>\n  </thead>\n  <tbody>\n    <tr>\n      <th>0</th>\n      <td>2013</td>\n      <td>Air Force</td>\n      <td>112.8840</td>\n      <td>104.4400</td>\n      <td>1102</td>\n    </tr>\n    <tr>\n      <th>1</th>\n      <td>2011</td>\n      <td>Air Force</td>\n      <td>105.7170</td>\n      <td>101.1380</td>\n      <td>1102</td>\n    </tr>\n    <tr>\n      <th>2</th>\n      <td>2003</td>\n      <td>Air Force</td>\n      <td>105.3400</td>\n      <td>103.7220</td>\n      <td>1102</td>\n    </tr>\n    <tr>\n      <th>3</th>\n      <td>2019</td>\n      <td>Air Force</td>\n      <td>100.4310</td>\n      <td>107.2750</td>\n      <td>1102</td>\n    </tr>\n    <tr>\n      <th>4</th>\n      <td>2007</td>\n      <td>Air Force</td>\n      <td>116.2860</td>\n      <td>97.0562</td>\n      <td>1102</td>\n    </tr>\n    <tr>\n      <th>...</th>\n      <td>...</td>\n      <td>...</td>\n      <td>...</td>\n      <td>...</td>\n      <td>...</td>\n    </tr>\n    <tr>\n      <th>5912</th>\n      <td>2017</td>\n      <td>Fort Wayne</td>\n      <td>109.5300</td>\n      <td>108.0540</td>\n      <td>1236</td>\n    </tr>\n    <tr>\n      <th>5913</th>\n      <td>2018</td>\n      <td>Fort Wayne</td>\n      <td>107.6160</td>\n      <td>106.4470</td>\n      <td>1236</td>\n    </tr>\n    <tr>\n      <th>5914</th>\n      <td>2021</td>\n      <td>Bellarmine</td>\n      <td>107.4090</td>\n      <td>108.6840</td>\n      <td>1468</td>\n    </tr>\n    <tr>\n      <th>5915</th>\n      <td>2021</td>\n      <td>Merrimack</td>\n      <td>90.8608</td>\n      <td>101.7180</td>\n      <td>1467</td>\n    </tr>\n    <tr>\n      <th>5916</th>\n      <td>2021</td>\n      <td>UC San Diego</td>\n      <td>101.2000</td>\n      <td>108.3140</td>\n      <td>1471</td>\n    </tr>\n  </tbody>\n</table>\n<p>5917 rows × 5 columns</p>\n</div>"
     },
     "metadata": {},
     "execution_count": 6
    }
   ]
  },
  {
   "cell_type": "code",
   "execution_count": 7,
   "metadata": {},
   "outputs": [
    {
     "output_type": "execute_result",
     "data": {
      "text/plain": [
       "{'Arkansas Little Rock',\n",
       " 'Arkansas Pine Bluff',\n",
       " 'Bethune Cookman',\n",
       " 'Cal St. Bakersfield',\n",
       " 'Dixie St.',\n",
       " 'Illinois Chicago',\n",
       " 'LIU',\n",
       " 'Louisiana Lafayette',\n",
       " 'Louisiana Monroe',\n",
       " 'Maryland Eastern Shore',\n",
       " 'Mississippi Valley St.',\n",
       " 'Southeast Missouri St.',\n",
       " 'Southwest Missouri St.',\n",
       " 'Southwest Texas St.',\n",
       " 'St. Francis NY',\n",
       " 'St. Francis PA',\n",
       " 'Tarleton St.',\n",
       " 'Tennessee Martin',\n",
       " 'Texas A&M Corpus Chris',\n",
       " 'Texas Pan American',\n",
       " 'UT Rio Grande Valley',\n",
       " 'Winston Salem St.'}"
      ]
     },
     "metadata": {},
     "execution_count": 7
    }
   ],
   "source": [
    "missing_teams = set(kenpom_df[\"TeamName\"]) - set(merged_df[\"TeamName\"])\n",
    "missing_teams"
   ]
  },
  {
   "cell_type": "code",
   "execution_count": 8,
   "metadata": {},
   "outputs": [],
   "source": [
    "merged_df.to_csv(f\"{OUTPUT_DATA_DIR}/kenpom.csv\", index=False)"
   ]
  },
  {
   "cell_type": "code",
   "execution_count": null,
   "metadata": {},
   "outputs": [],
   "source": []
  }
 ]
}